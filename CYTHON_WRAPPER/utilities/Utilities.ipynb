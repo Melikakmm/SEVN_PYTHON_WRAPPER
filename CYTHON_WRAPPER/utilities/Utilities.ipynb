{
 "cells": [
  {
   "cell_type": "code",
   "execution_count": 2,
   "id": "99ca5604",
   "metadata": {},
   "outputs": [
    {
     "name": "stdout",
     "output_type": "stream",
     "text": [
      "Overwriting Utilities_h.pxd\n"
     ]
    }
   ],
   "source": [
    "%%writefile Utilities_h.pxd\n",
    "\n",
    "\n",
    "cdef extern from \"/Users/melikakeshavarz/Desktop/sevndevel/include/general/utils/sevnlog.h\" namespace \"sevnstd\":\n",
    "    cdef cppclass SevnLogging:\n",
    "        SevnLogging() except +\n",
    "        \n",
    "        \n",
    "cdef extern from \"/Users/melikakeshavarz/Desktop/sevndevel/include/general/utils/errhand.h\":\n",
    "    pass\n",
    "        \n",
    "\n",
    "\n",
    "cdef extern from \"/Users/melikakeshavarz/Desktop/sevndevel/include/general/utils/utilities.h\":\n",
    "    pass\n",
    "\n",
    "    \n",
    "    \n",
    "cdef extern from \"/Users/melikakeshavarz/Desktop/sevndevel/include/general/static_main.h\" namespace \"utilities\":\n",
    "    double maxwellian_cdf(double x, double sigma)\n",
    "    double maxwellian_pdf(double x, double sigma)\n",
    "    double roche_lobe_Eg(double Mass_primary, double Mass_secondary, double a)\n",
    "    double kepler(double ecc, double m, double tol, int maxit)\n",
    "    \n",
    "    \n",
    "\n",
    "\n",
    "\n",
    "\n",
    "\n"
   ]
  },
  {
   "cell_type": "code",
   "execution_count": 3,
   "id": "b27e50cd",
   "metadata": {},
   "outputs": [
    {
     "name": "stdout",
     "output_type": "stream",
     "text": [
      "Overwriting Utilities.pyx\n"
     ]
    }
   ],
   "source": [
    "%%writefile Utilities.pyx\n",
    "\n",
    "\n",
    "from Utilities_h cimport *\n",
    "\n",
    "\n",
    "\n",
    "cdef class _Params:\n",
    "\n",
    "    cdef public double G, yr_cgs, parsec_cgs, Rsun_cgs, Msun_cgs\n",
    "    cdef public double Sigma_StefBoltz, Myr_to_yr, yr_to_Myr, kms_to_RSunyr, LSun_to_Solar, c, km_to_RSun, g_to_MSun, Mchandra\n",
    "    cdef public double NULL_DOUBLE\n",
    "    cdef public int NULL_INT\n",
    "    cdef public double DIFF_TOLL, LARGE, TINY, tH\n",
    "    cdef public int SINGLE_STEP_EVOLUTION, REPEATED_EVOLUTION\n",
    "    cdef public int JUMP_CONVERGE, JUMP, NO_JUMP, SNIA_EXPLODE, SNII_EXPLODE, SN_NOT_EXPLODE, RLO_TRUE, RLO_FALSE\n",
    "    cdef public int BIN_EV_DONE, BIN_EV_SETBROKEN, BIN_EV_NOT_DONE\n",
    "    \n",
    "    def __init__(self):#can be tried with __Cinit__ as well#test the speed\n",
    "\n",
    "        self.G = 3.925125598496094e8; #RSUN^3 YR^-2 MSUN^-1 (astropy: constant.G.to(\"Rsun^3/yr^2/Msun\"))\n",
    "        self.yr_cgs = 3.1557600e7; #yr in s (astropy: u.yr.to(u.s))\n",
    "        self.parsec_cgs= 3.085677581491367e+18; #parsec in cm (astropy: u.parsec.to(u.cm))\n",
    "        self.Rsun_cgs = 6.95700e10; #rsun in cm (astropy constant.R_sun.to(\"cm\"))\n",
    "        self.Msun_cgs = 1.988409870698051e+33; #msun in g (astropy constant.M_sun.to(\"cm\"))\n",
    "\n",
    "\n",
    "\n",
    "\n",
    "        self.Sigma_StefBoltz = 7.1694165533435e-17; #LSun^3 RSun^-2 K^-4 (astropy: constant.sigma_sb.to('Lsun/(K^4 * Rsun^2)')\n",
    "        self.Myr_to_yr = 1.0e6;\n",
    "        self.yr_to_Myr = 1.0e-6;\n",
    "        self.kms_to_RSunyr = 45.360931435963785; #(astropy: (u.km/u.s).to(u.Rsun/u.yr))\n",
    "        self.LSun_to_Solar = 12.500687924182579; #From Lsun to MSun RSun^2 yr^-3 (astropy: u.Lsun.to((u.Msun*u.Rsun**2)/(u.yr**3)))\n",
    "        self.c = 1.3598865132357053e7; # RSun/yr (astropy: constant.c.to('Rsun/yr'))\n",
    "        self.km_to_RSun = 1.4374011786689665e-06; #(astropy: u.km.to(u.Rsun))\n",
    "        self.g_to_MSun = 5.029144215870041e-34; #(astropy: u.g.to(u.Msun))\n",
    "        self.tH = 13.7*1e3; #Hubble time in Myr\n",
    "        self.Mchandra = 1.41; #Chandrasekhar mass in Msun\n",
    "\n",
    "        ###string PLACEHOLDER=\"xxx\"; # Standard placeholder for input properties\n",
    "        # SY\n",
    "\n",
    "        # MAGIC NULL VALUES\n",
    "        self.NULL_DOUBLE = -9e30;\n",
    "        self.NULL_INT = -999999999;\n",
    "        #size_t NULL_SINT = 999999999;\n",
    "        # std::string NULL_STR = \"FORZAROMA\"; # NOT POSSIBLE in C11 (It will be possible in C20)\n",
    "        ###string NULL_STR = \"FORZAROMA\";\n",
    "\n",
    "        # MAGIC LARGE AN TINY VALUES\n",
    "        self.DIFF_TOLL = 1e-10; # Tollerance on difference between two values\n",
    "        self.LARGE = 1e30;\n",
    "        self.TINY = 1e-15;\n",
    "        ###double DOUBLE_EPS = std::numeric_limits<double>::epsilon();\n",
    "\n",
    "\n",
    "        # INT CONSTANT TO HANDLE RETURN FROM EVOLUTION\n",
    "        ###ctypedef unsigned int evolution;\n",
    "        self.SINGLE_STEP_EVOLUTION=0;\n",
    "        self.REPEATED_EVOLUTION=1;\n",
    "\n",
    "        # INT CONSTANT TO HANDLE RETURN FROM FUNCTIONS\n",
    "        ###ctypedef unsigned int jump_convergence;\n",
    "        self.JUMP_CONVERGE=0;\n",
    "        self.JUMP=1;\n",
    "        self.NO_JUMP=2;\n",
    "\n",
    "        # INT CONST FOR SN EXPLOSION\n",
    "        ###ctypedef unsigned int sn_explosion;\n",
    "        self.SNIA_EXPLODE=1;\n",
    "        self.SNII_EXPLODE=2;\n",
    "        self.SN_NOT_EXPLODE=0;\n",
    "\n",
    "        # INT CONST FOR RLO\n",
    "        ###ctypedef unsigned int rlo;\n",
    "        self.RLO_FALSE=0; # RLO is happening or happened\n",
    "        self.RLO_TRUE=1; # RLO is happening or happened\n",
    "\n",
    "        # bool CONST FOR BINARY EVOLUTION\n",
    "        ###ctypedef bool bse_evolution;\n",
    "        self.BIN_EV_DONE = 1; # This is the return if the properties of the binary have been evolved with the proper evolve method\n",
    "        self.BIN_EV_NOT_DONE = 0; # This is the return if the properties of the binary have been evolved without the proper evolve method\n",
    "        self.BIN_EV_SETBROKEN = 2; # This is the return if the properties of the binary have not been evolved but a set broken has been called\n",
    "\n",
    "    cpdef double G_cgs(self): ###we defined with cpdef since we want a c-level function that can be readable with python\n",
    "        return self.G*self.Rsun_cgs*self.Rsun_cgs*self.Rsun_cgs/(self.Msun_cgs*self.yr_cgs*self.yr_cgs)\n",
    "    cpdef double G3_over_c5(self) except? -1:\n",
    "        return (self.G*self.G*self.G)/(self.c*self.c*self.c*self.c*self.c)\n",
    "    cpdef double parsec_to_Rsun(self) except? -1:\n",
    "        return self.parsec_cgs/self.Rsun_cgs\n",
    "\n",
    "    cpdef double G_over_c2(self) except? -1:\n",
    "        return self.G / (self.c*self.c)\n",
    "\n",
    "\n",
    "    \n",
    "    \n",
    "    \n",
    "\n",
    "#–––––––––functions–––––––––––––#\n",
    "\n",
    "\n",
    "\n",
    "\n",
    "\n",
    "\n",
    "\n",
    "cdef class Functions:\n",
    "\n",
    "\n",
    "\n",
    "\n",
    "\n",
    "\n",
    "    cpdef double pkepler(self, double ecc, double m, double tol, int maxit):\n",
    "        return kepler( ecc,  m,  tol,  maxit)\n",
    "\n",
    "\n",
    "    cpdef double pmaxwellian_cdf(self, double x, double sigma):\n",
    "        return maxwellian_cdf(x, sigma)\n",
    "\n",
    "    cpdef double pmaxwellian_pdf(self, double x, double sigma):\n",
    "        return maxwellian_pdf(x, sigma)\n",
    "\n",
    "    cpdef double proche_lobe_Eg(self, double Mass_primary, double Mass_secondary, double a):\n",
    "        return roche_lobe_Eg(Mass_primary, Mass_secondary, a)\n",
    "\n",
    "\n",
    "\n",
    "\n"
   ]
  },
  {
   "cell_type": "code",
   "execution_count": 4,
   "id": "ca068538",
   "metadata": {},
   "outputs": [
    {
     "name": "stdout",
     "output_type": "stream",
     "text": [
      "Overwriting setup.py\n"
     ]
    }
   ],
   "source": [
    "\n",
    "%%writefile setup.py\n",
    "from distutils.core import setup, Extension\n",
    "from Cython.Build import cythonize\n",
    "import glob\n",
    "\n",
    "path = \"/Users/melikakeshavarz/Desktop/sevndevel\"\n",
    "\n",
    "src_files=glob.glob(path+\"/src/*.cpp\",recursive=True)+\\\n",
    "          glob.glob(path+\"/src/binstar/*.cpp\",recursive=True)+ \\\n",
    "          glob.glob(path+\"/src/binstar/procs/*.cpp\",recursive=True)+ \\\n",
    "          glob.glob(path+\"/src/general/*.cpp\",recursive=True)+\\\n",
    "          glob.glob(path+\"/src/general/utils/*.cpp\",recursive=True)+\\\n",
    "          glob.glob(path+\"/src/star/*.cpp\",recursive=True)+\\\n",
    "          glob.glob(path+\"/src/star/lambdas/*.cpp\",recursive=True)+\\\n",
    "          glob.glob(path+\"/src/star/procs/*.cpp\",recursive=True)+\\\n",
    "          glob.glob(path+\"/src/star/procs/*/*.cpp\",recursive=True)\n",
    "\n",
    "\n",
    "ext= Extension(\"Utilities\",sources=[\"Utilities.pyx\"]+src_files,\n",
    "               language=\"c++\",\n",
    "               extra_compile_args=[\"-std=c++11\"],\n",
    "               extra_link_args=['-std=c++11'],\n",
    "               include_dirs = [path +'/include',path+'/include/star',path +'/include/star/lambdas',\n",
    "                               path +'/include/star/procs/kicks',path +'/include/star/procs/neutrinomassloss',path +'/include/star/procs/pairinstability',\n",
    "                               path + '/include/star/procs/supernova',\n",
    "                               path +'/include/general/utils',path +'/include/general/',path +'/include/binstar/procs',\n",
    "                               path +'/include/star/lambdas',path +'/include/star/procs',path +'/include/binstar'])\n",
    "\n",
    "\n",
    "\n",
    "setup(name=\"Utilities\",ext_modules=cythonize(ext,compiler_directives={'language_level' : \"3\"}))"
   ]
  },
  {
   "cell_type": "code",
   "execution_count": 5,
   "id": "64a9fcab",
   "metadata": {},
   "outputs": [],
   "source": [
    "import os\n",
    "\n",
    "os.environ[\"CC\"] = \"gcc-12\"\n",
    "os.environ[\"CXX\"] = \"g++-12\""
   ]
  },
  {
   "cell_type": "code",
   "execution_count": 6,
   "id": "a8e12816",
   "metadata": {},
   "outputs": [
    {
     "name": "stdout",
     "output_type": "stream",
     "text": [
      "Compiling Utilities.pyx because it changed.\n",
      "[1/1] Cythonizing Utilities.pyx\n",
      "ld: warning: dylib (/opt/homebrew/Cellar/gcc/12.2.0/lib/gcc/current/libstdc++.dylib) was built for newer macOS version (13.0) than being linked (11.1)\n"
     ]
    }
   ],
   "source": [
    "\n",
    "!python3 setup.py build_ext --inplace "
   ]
  },
  {
   "cell_type": "code",
   "execution_count": 7,
   "id": "0de32287",
   "metadata": {},
   "outputs": [
    {
     "data": {
      "text/plain": [
       "1.9697603091225073"
      ]
     },
     "execution_count": 7,
     "metadata": {},
     "output_type": "execute_result"
    }
   ],
   "source": [
    "import Utilities\n",
    "F = Utilities.Functions()\n",
    "F.pkepler(1, 1, 1, 1)"
   ]
  },
  {
   "cell_type": "code",
   "execution_count": 9,
   "id": "b729ba11",
   "metadata": {},
   "outputs": [
    {
     "data": {
      "text/plain": [
       "392512559.8496094"
      ]
     },
     "execution_count": 9,
     "metadata": {},
     "output_type": "execute_result"
    }
   ],
   "source": [
    "import Utilities\n",
    "\n",
    "P = Utilities._Params()\n",
    "\n",
    "P.G"
   ]
  }
 ],
 "metadata": {
  "kernelspec": {
   "display_name": "Python 3 (ipykernel)",
   "language": "python",
   "name": "python3"
  },
  "language_info": {
   "codemirror_mode": {
    "name": "ipython",
    "version": 3
   },
   "file_extension": ".py",
   "mimetype": "text/x-python",
   "name": "python",
   "nbconvert_exporter": "python",
   "pygments_lexer": "ipython3",
   "version": "3.10.9"
  }
 },
 "nbformat": 4,
 "nbformat_minor": 5
}
