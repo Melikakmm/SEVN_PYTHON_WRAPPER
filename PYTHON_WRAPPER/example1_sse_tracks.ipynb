{
 "cells": [
  {
   "cell_type": "markdown",
   "id": "09aea0c0",
   "metadata": {},
   "source": [
    "# Example 1: Single Stellar Evolution Tracks\n",
    "\n",
    "In this example, we evolve a single star (in the file [listSin.txt](listSin.txt) and we use the output to plot its track in the HR diagram. In addition we re-run SEVN using different stellar evolution tables. \n",
    "\n",
    "- To compile SEVN use the [compile.sh](compile.sh) or check complie in python will autocompile if needed\n",
    "\n",
    "This example uses the Python Wrapper the however  equivelent runscript is given by\n",
    "- The basic run  is [run_sse.sh](run_sse.sh) or [run_sse_parsecov05.sh](run_sse_parsecov05.sh)\n",
    "- To run the alterative parsec table [run_sse_parsecov04.sh](run_sse_parsecov04.sh)\n",
    "- To run using the MIST stellar tables: [run_sse_mist.sh](run_sse_mist.sh) (remember to set use tabuse_rhe=false, tabuse_rco=false, tabuse_envconv=false)"
   ]
  },
  {
   "cell_type": "code",
   "execution_count": 1,
   "id": "b6157208",
   "metadata": {},
   "outputs": [],
   "source": [
    "import pySEVN as SV"
   ]
  },
  {
   "cell_type": "code",
   "execution_count": 2,
   "id": "00f02637",
   "metadata": {},
   "outputs": [
    {
     "name": "stdout",
     "output_type": "stream",
     "text": [
      "SEVN already compiled\n"
     ]
    }
   ],
   "source": [
    "SEVN= \"/home/jake/SEVN/sevndevel\"\n",
    "SV.set_path(SEVN)\n",
    "SV.check_compile()"
   ]
  },
  {
   "cell_type": "code",
   "execution_count": 3,
   "id": "0c0872a1",
   "metadata": {},
   "outputs": [],
   "source": [
    "import os"
   ]
  },
  {
   "cell_type": "code",
   "execution_count": 4,
   "id": "1f604799",
   "metadata": {},
   "outputs": [],
   "source": [
    "tutorials_path= '/home/jake/SEVN/tutorials'\n",
    "list_path=os.path.join(SEVN,'resources','tutorial_MIAPbP','Example1_simplesse','listSin.txt')\n",
    "\n",
    "#SEVN will autocreate folders in need be when ran\n",
    "parsec_05 = os.path.join(tutorials_path, 'parsec_05')\n",
    "parsec_04 = os.path.join(tutorials_path, 'parsec_04')\n",
    "MIST = os.path.join(tutorials_path, 'MIST')"
   ]
  },
  {
   "cell_type": "code",
   "execution_count": 5,
   "id": "f63ceead",
   "metadata": {},
   "outputs": [],
   "source": [
    "pc_04_table_path = os.path.join(SEVN,'tables','SEVNtracks_parsec_ov04_AGB')\n",
    "MIST_table_path = os.path.join(SEVN,'tables','SEVNtracks_MIST_AGB')\n",
    "\n",
    "sse_pc04 = SV.sse()\n",
    "sse_pc04.update({'OUTPATH':parsec_04,'LISTBIN':list_path,'TABLES':pc_04_table_path})\n",
    "\n",
    "sse_pc05 = SV.sse()#default tables\n",
    "sse_pc05.update({'OUTPATH' : parsec_05, 'LISTBIN' : list_path})\n",
    "\n",
    "sse_MIST= SV.sse()\n",
    "sse_MIST.update({'OUTPATH':MIST,'LISTBIN':list_path,'TABLES':MIST_table_path,\n",
    "                  'TABCONV':False,'TABRHE':False,'TABRCO':False})"
   ]
  },
  {
   "cell_type": "code",
   "execution_count": 8,
   "id": "6ad4e315",
   "metadata": {
    "scrolled": true
   },
   "outputs": [
    {
     "name": "stdout",
     "output_type": "stream",
     "text": [
      "RUN output saved to/home/jake/SEVN/tutorials/parsec_05/run_output.txt\n",
      "Directory '/home/jake/SEVN/tutorials/parsec_05' created\n",
      "RUN output saved to/home/jake/SEVN/tutorials/parsec_04/run_output.txt\n",
      "Directory '/home/jake/SEVN/tutorials/parsec_04' created\n",
      "RUN output saved to/home/jake/SEVN/tutorials/MIST/run_output.txt\n",
      "Directory '/home/jake/SEVN/tutorials/MIST' created\n"
     ]
    }
   ],
   "source": [
    "sse_pc05.run(NTHREADS=4, PRINTFILE=True)\n",
    "sse_pc04.run(NTHREADS=4, PRINTFILE=True)\n",
    "sse_MIST.run(NTHREADS=4, PRINTFILE=True)"
   ]
  },
  {
   "cell_type": "code",
   "execution_count": 10,
   "id": "52e92de3",
   "metadata": {},
   "outputs": [
    {
     "data": {
      "text/plain": [
       "'/home/jake/SEVN/sevndevel/build/exe/sevn.x -nthreads 4 -ev_Nchunk 1000 -dtout list -list /home/jake/SEVN/sevndevel/resources/tutorial_MIAPbP/Example1_simplesse/listSin.txt -ibmode new -tables /home/jake/SEVN/sevndevel/tables/SEVNtracks_MIST_AGB -tables_HE /home/jake/SEVN/sevndevel/tables/SEVNtracks_parsec_pureHe36 -tf list -tini list -rseed false -o /home/jake/SEVN/tutorials/MIST -omode csv -log_level critical -io_literal_phases false -io_logfile true -scol Worldtime:Mass:MHE:MCO:Radius:Luminosity:Temperature:Phase:RemnantType -bcol Semimajor:Eccentricity:BEvent -sn_kicks unified -sn_pairinstability mapelli20 -sn_neutrinomaloss lattimer89 -snmode list -xspinmode disabled -tabuse_envconv false -tabuse_Xsup false -tabuse_inertia false -inertiamode Hurley -tabuse_rhe  false -tabuse_rco false -use_thg_hurley false -optimistic_scenario_hg false -sn_Mchandra 1.44 -sn_co_lower_ecsn 1.38 -sn_co_lower_sn 1.44 -sn_co_lower_ecsn_pureHe -1 -sn_co_lower_sn_pureHe -1 -sn_compact_csi25_tshold 0.35 -sn_compact_fallback 0.9 -sn_min_vkick 0.0 -sn_kick_velocity_stdev 265.0 -w_alpha 1.5 -w_beta 0.125 -star_lambda -1 -star_lambda_pureHe 0.5 -star_lambda_fth 1 -sn_max_ns_mass 3.0 -ns_magnetic_tscale 1000 -ns_magnetic_mscale 0.15 -sn_Mremnant_average_NS 1.33 -sn_Mremnant_std_NS 0.09 -xspin_sigma_maxwell 0.1 -xspin_bavera false -jtrack_h_err_rel_max 0.005 -jtrack_max_dm_factor 1.2 -jtrack_min_dm_factor 0 -jtrack_max_iteration 10 -jtrack_tshold_dm_rel 0.01 -ev_max_repetitions 50 -ev_naked_tshold 1E-4 -star_tshold_WR_envelope 0.021 -initerror_stop false -ev_set_maxCO false -ev_set_minHE false -ev_setwM linear -ev_setwM_log log -ev_setwM_tphase rational -ts_maximum_variation 0.05 -ts_min_dt -1 -ts_max_dt -1 -ts_check_spin false -ts_check_spin_bin false -ts_check_NSspin false -check_stalling true -Z list'"
      ]
     },
     "execution_count": 10,
     "metadata": {},
     "output_type": "execute_result"
    }
   ],
   "source": [
    "sse_MIST.output.RUNCMD"
   ]
  },
  {
   "cell_type": "markdown",
   "id": "fda3944d",
   "metadata": {},
   "source": [
    "## Output "
   ]
  },
  {
   "cell_type": "code",
   "execution_count": 11,
   "id": "a8e5a78c",
   "metadata": {},
   "outputs": [
    {
     "data": {
      "text/html": [
       "<div>\n",
       "<style scoped>\n",
       "    .dataframe tbody tr th:only-of-type {\n",
       "        vertical-align: middle;\n",
       "    }\n",
       "\n",
       "    .dataframe tbody tr th {\n",
       "        vertical-align: top;\n",
       "    }\n",
       "\n",
       "    .dataframe thead th {\n",
       "        text-align: right;\n",
       "    }\n",
       "</style>\n",
       "<table border=\"1\" class=\"dataframe\">\n",
       "  <thead>\n",
       "    <tr style=\"text-align: right;\">\n",
       "      <th></th>\n",
       "      <th>ID</th>\n",
       "      <th>name</th>\n",
       "      <th>Worldtime</th>\n",
       "      <th>Mass</th>\n",
       "      <th>MHE</th>\n",
       "      <th>MCO</th>\n",
       "      <th>Radius</th>\n",
       "      <th>Luminosity</th>\n",
       "      <th>Temperature</th>\n",
       "      <th>Phase</th>\n",
       "      <th>RemnantType</th>\n",
       "    </tr>\n",
       "  </thead>\n",
       "  <tbody>\n",
       "    <tr>\n",
       "      <th>count</th>\n",
       "      <td>368.0</td>\n",
       "      <td>3.680000e+02</td>\n",
       "      <td>368.000000</td>\n",
       "      <td>368.000000</td>\n",
       "      <td>368.000000</td>\n",
       "      <td>368.000000</td>\n",
       "      <td>368.000000</td>\n",
       "      <td>368.000000</td>\n",
       "      <td>3.680000e+02</td>\n",
       "      <td>368.000000</td>\n",
       "      <td>368.000000</td>\n",
       "    </tr>\n",
       "    <tr>\n",
       "      <th>mean</th>\n",
       "      <td>0.0</td>\n",
       "      <td>2.230512e+14</td>\n",
       "      <td>9.043854</td>\n",
       "      <td>16.476458</td>\n",
       "      <td>5.160985</td>\n",
       "      <td>0.491379</td>\n",
       "      <td>383.611906</td>\n",
       "      <td>96669.759477</td>\n",
       "      <td>1.581404e+04</td>\n",
       "      <td>3.578804</td>\n",
       "      <td>0.013587</td>\n",
       "    </tr>\n",
       "    <tr>\n",
       "      <th>std</th>\n",
       "      <td>0.0</td>\n",
       "      <td>9.700689e-01</td>\n",
       "      <td>1.073503</td>\n",
       "      <td>1.376936</td>\n",
       "      <td>1.823392</td>\n",
       "      <td>1.111120</td>\n",
       "      <td>363.059989</td>\n",
       "      <td>19734.904781</td>\n",
       "      <td>9.670444e+04</td>\n",
       "      <td>1.252479</td>\n",
       "      <td>0.260643</td>\n",
       "    </tr>\n",
       "    <tr>\n",
       "      <th>min</th>\n",
       "      <td>0.0</td>\n",
       "      <td>2.230512e+14</td>\n",
       "      <td>0.000000</td>\n",
       "      <td>1.557675</td>\n",
       "      <td>0.000000</td>\n",
       "      <td>0.000000</td>\n",
       "      <td>0.000016</td>\n",
       "      <td>2.687496</td>\n",
       "      <td>3.279036e+03</td>\n",
       "      <td>1.000000</td>\n",
       "      <td>0.000000</td>\n",
       "    </tr>\n",
       "    <tr>\n",
       "      <th>25%</th>\n",
       "      <td>0.0</td>\n",
       "      <td>2.230512e+14</td>\n",
       "      <td>8.955552</td>\n",
       "      <td>14.928330</td>\n",
       "      <td>5.094966</td>\n",
       "      <td>0.000000</td>\n",
       "      <td>37.076440</td>\n",
       "      <td>86538.972500</td>\n",
       "      <td>3.512002e+03</td>\n",
       "      <td>3.000000</td>\n",
       "      <td>0.000000</td>\n",
       "    </tr>\n",
       "    <tr>\n",
       "      <th>50%</th>\n",
       "      <td>0.0</td>\n",
       "      <td>2.230512e+14</td>\n",
       "      <td>9.181940</td>\n",
       "      <td>17.081275</td>\n",
       "      <td>6.065364</td>\n",
       "      <td>0.000000</td>\n",
       "      <td>225.118200</td>\n",
       "      <td>97605.630000</td>\n",
       "      <td>6.898701e+03</td>\n",
       "      <td>4.000000</td>\n",
       "      <td>0.000000</td>\n",
       "    </tr>\n",
       "    <tr>\n",
       "      <th>75%</th>\n",
       "      <td>0.0</td>\n",
       "      <td>2.230512e+14</td>\n",
       "      <td>9.641534</td>\n",
       "      <td>17.469815</td>\n",
       "      <td>6.359905</td>\n",
       "      <td>0.000000</td>\n",
       "      <td>843.854550</td>\n",
       "      <td>106635.925000</td>\n",
       "      <td>1.656943e+04</td>\n",
       "      <td>4.250000</td>\n",
       "      <td>0.000000</td>\n",
       "    </tr>\n",
       "    <tr>\n",
       "      <th>max</th>\n",
       "      <td>0.0</td>\n",
       "      <td>2.230512e+14</td>\n",
       "      <td>9.663522</td>\n",
       "      <td>17.994540</td>\n",
       "      <td>6.369764</td>\n",
       "      <td>4.033711</td>\n",
       "      <td>1244.296000</td>\n",
       "      <td>161259.800000</td>\n",
       "      <td>1.858567e+06</td>\n",
       "      <td>7.000000</td>\n",
       "      <td>5.000000</td>\n",
       "    </tr>\n",
       "  </tbody>\n",
       "</table>\n",
       "</div>"
      ],
      "text/plain": [
       "          ID          name   Worldtime        Mass         MHE         MCO  \\\n",
       "count  368.0  3.680000e+02  368.000000  368.000000  368.000000  368.000000   \n",
       "mean     0.0  2.230512e+14    9.043854   16.476458    5.160985    0.491379   \n",
       "std      0.0  9.700689e-01    1.073503    1.376936    1.823392    1.111120   \n",
       "min      0.0  2.230512e+14    0.000000    1.557675    0.000000    0.000000   \n",
       "25%      0.0  2.230512e+14    8.955552   14.928330    5.094966    0.000000   \n",
       "50%      0.0  2.230512e+14    9.181940   17.081275    6.065364    0.000000   \n",
       "75%      0.0  2.230512e+14    9.641534   17.469815    6.359905    0.000000   \n",
       "max      0.0  2.230512e+14    9.663522   17.994540    6.369764    4.033711   \n",
       "\n",
       "            Radius     Luminosity   Temperature       Phase  RemnantType  \n",
       "count   368.000000     368.000000  3.680000e+02  368.000000   368.000000  \n",
       "mean    383.611906   96669.759477  1.581404e+04    3.578804     0.013587  \n",
       "std     363.059989   19734.904781  9.670444e+04    1.252479     0.260643  \n",
       "min       0.000016       2.687496  3.279036e+03    1.000000     0.000000  \n",
       "25%      37.076440   86538.972500  3.512002e+03    3.000000     0.000000  \n",
       "50%     225.118200   97605.630000  6.898701e+03    4.000000     0.000000  \n",
       "75%     843.854550  106635.925000  1.656943e+04    4.250000     0.000000  \n",
       "max    1244.296000  161259.800000  1.858567e+06    7.000000     5.000000  "
      ]
     },
     "execution_count": 11,
     "metadata": {},
     "output_type": "execute_result"
    }
   ],
   "source": [
    "df=sse_pc05.output_df()\n",
    "df.describe()"
   ]
  },
  {
   "cell_type": "code",
   "execution_count": 12,
   "id": "172e6892",
   "metadata": {},
   "outputs": [
    {
     "data": {
      "text/plain": [
       "(100000.0, 1000.0)"
      ]
     },
     "execution_count": 12,
     "metadata": {},
     "output_type": "execute_result"
    },
    {
     "data": {
      "image/png": "[encoded data removed]",
      "text/plain": [
       "<Figure size 720x576 with 1 Axes>"
      ]
     },
     "metadata": {
      "needs_background": "light"
     },
     "output_type": "display_data"
    }
   ],
   "source": [
    "import matplotlib.pyplot as plt\n",
    "fig, ax = plt.subplots(figsize=(10,8))\n",
    "df=df[df.Phase<7]\n",
    "plt.plot(df.Temperature, df.Luminosity)\n",
    "plt.xscale(\"log\")\n",
    "plt.yscale(\"log\")\n",
    "plt.xlabel(\"Teff [K]\",fontsize=15)\n",
    "plt.ylabel(\"L [Lsun]\",fontsize=15)\n",
    "plt.xticks(fontsize=15)\n",
    "plt.yticks(fontsize=15)\n",
    "plt.xlim(1e5,1e3)"
   ]
  },
  {
   "cell_type": "code",
   "execution_count": 13,
   "id": "30675c0f",
   "metadata": {},
   "outputs": [
    {
     "data": {
      "text/plain": [
       "(100000.0, 1000.0)"
      ]
     },
     "execution_count": 13,
     "metadata": {},
     "output_type": "execute_result"
    },
    {
     "data": {
      "image/png": "[encoded data removed]",
      "text/plain": [
       "<Figure size 720x576 with 1 Axes>"
      ]
     },
     "metadata": {
      "needs_background": "light"
     },
     "output_type": "display_data"
    }
   ],
   "source": [
    "fig, ax = plt.subplots(figsize=(10,8))\n",
    "\n",
    "df=df[df.Phase<7]\n",
    "plt.plot(df.Temperature, df.Luminosity,label=\"PARSEC, $\\lambda_\\mathrm{ov}=0.5$\")\n",
    "\n",
    "CHeB=df[[\"Luminosity\",\"Temperature\"]][df.Phase==4].iloc[0]\n",
    "plt.scatter(CHeB.Temperature, CHeB.Luminosity,label=\"CHeB\")\n",
    "\n",
    "plt.xscale(\"log\")\n",
    "plt.yscale(\"log\")\n",
    "plt.xlim(1e5,1e3)\n",
    "\n",
    "\n",
    "df=sse_pc04.output_df()\n",
    "df=df[df.Phase<7]\n",
    "plt.plot(df.Temperature, df.Luminosity,label=\"PARSEC, $\\lambda_\\mathrm{ov}=0.4$\")\n",
    "CHeB=df[[\"Luminosity\",\"Temperature\"]][df.Phase==4].iloc[0]\n",
    "plt.scatter(CHeB.Temperature, CHeB.Luminosity)\n",
    "plt.xscale(\"log\")\n",
    "plt.yscale(\"log\")\n",
    "plt.xlim(1e5,1e3)\n",
    "\n",
    "df=sse_MIST.output_df()\n",
    "df=df[df.Phase<7]\n",
    "plt.plot(df.Temperature, df.Luminosity,label=\"MIST\")\n",
    "CHeB=df[[\"Luminosity\",\"Temperature\"]][df.Phase==4].iloc[0]\n",
    "plt.scatter(CHeB.Temperature, CHeB.Luminosity)\n",
    "plt.xscale(\"log\")\n",
    "plt.yscale(\"log\")\n",
    "\n",
    "plt.xlabel(\"Teff [K]\",fontsize=15)\n",
    "plt.ylabel(\"L [Lsun]\",fontsize=15)\n",
    "plt.xticks(fontsize=15)\n",
    "plt.yticks(fontsize=15)\n",
    "plt.legend()\n",
    "plt.xlim(1e5,1e3)"
   ]
  }
 ],
 "metadata": {
  "kernelspec": {
   "display_name": "Python 3 (ipykernel)",
   "language": "python",
   "name": "python3"
  },
  "language_info": {
   "codemirror_mode": {
    "name": "ipython",
    "version": 3
   },
   "file_extension": ".py",
   "mimetype": "text/x-python",
   "name": "python",
   "nbconvert_exporter": "python",
   "pygments_lexer": "ipython3",
   "version": "3.9.12"
  }
 },
 "nbformat": 4,
 "nbformat_minor": 5
}
